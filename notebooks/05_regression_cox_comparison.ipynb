{
 "cells": [
  {
   "cell_type": "code",
   "execution_count": 1,
   "id": "9f18e6c1",
   "metadata": {},
   "outputs": [],
   "source": [
    "import pandas as pd\n",
    "import numpy as np\n",
    "import statsmodels.api as sm\n",
    "import matplotlib.pyplot as plt\n",
    "from matplotlib.lines import Line2D\n",
    "import os\n",
    "from lifelines import CoxPHFitter\n",
    "from sklearn.preprocessing import StandardScaler, OneHotEncoder\n",
    "from sklearn.compose import ColumnTransformer\n",
    "from sklearn.pipeline import Pipeline\n",
    "from utils import *"
   ]
  },
  {
   "cell_type": "code",
   "execution_count": 2,
   "id": "fa263912",
   "metadata": {},
   "outputs": [],
   "source": [
    "# Set Pandas option to display all columns\n",
    "pd.set_option('display.max_columns', None)"
   ]
  },
  {
   "cell_type": "code",
   "execution_count": 2,
   "id": "29ab156e",
   "metadata": {},
   "outputs": [],
   "source": [
    "df = pd.read_csv(\"../data/modified_small.csv\")\n",
    "df_long = expand_to_long_format(df)"
   ]
  },
  {
   "cell_type": "code",
   "execution_count": 7,
   "id": "840944bf",
   "metadata": {},
   "outputs": [],
   "source": [
    "df_long[\"cycle_cat\"] = pd.cut(\n",
    "    df_long[\"cycle\"],\n",
    "    bins=[0, 3, 6, 9, 12, np.inf],\n",
    "    labels=[\"1-3\", \"4-6\", \"7-9\", \"10-12\", \"13+\"]\n",
    ")"
   ]
  },
  {
   "cell_type": "code",
   "execution_count": null,
   "id": "85e3fefd",
   "metadata": {},
   "outputs": [],
   "source": [
    "# Define input variables\n",
    "\n",
    "numerical_vars = [\n",
    "    #\"cycle\",\n",
    "]\n",
    "\n",
    "\n",
    "categorical_vars = {\n",
    "    'age_group':'30-35',\n",
    "    'bmi_group':'normal',\n",
    "    'been_pregnant_before_binary':False,\n",
    "    'average_cycle_length_group':'21-35',\n",
    "    'regular_cycle':True,\n",
    "    'university_education':False,\n",
    "    'regular_sleep':True,\n",
    "    'intercourse_frequency_group':'low',\n",
    "    'dedication_group':'low',\n",
    "    'cycle_cat': '1-3'\n",
    "}"
   ]
  },
  {
   "cell_type": "code",
   "execution_count": 10,
   "id": "5e4821b5",
   "metadata": {},
   "outputs": [],
   "source": [
    "X = prepare_model_matrix(\n",
    "    df=df_long.drop(columns=['event_this_cycle', 'outcome_pregnant', 'n_cycles_trying']),\n",
    "    categorical_baselines=categorical_vars,\n",
    "    center_numeric=numerical_vars\n",
    ")\n",
    "y = df_long[\"event_this_cycle\"]\n",
    "\n",
    "X = X.astype({col: 'int' for col in X.select_dtypes(bool).columns})\n",
    "\n",
    "\n",
    "# Drop missing values\n",
    "mask = X.notnull().all(axis=1) & y.notnull()\n",
    "X = X[mask]\n",
    "y = y[mask]"
   ]
  },
  {
   "cell_type": "code",
   "execution_count": 12,
   "id": "201cfdf0",
   "metadata": {},
   "outputs": [
    {
     "name": "stdout",
     "output_type": "stream",
     "text": [
      "Optimization terminated successfully.\n",
      "         Current function value: 0.337184\n",
      "         Iterations 9\n"
     ]
    }
   ],
   "source": [
    "# STEP 4: Fit logistic regression model\n",
    "X = sm.add_constant(X)\n",
    "model = sm.Logit(y, X) # discrete-time proportional odds model\n",
    "result = model.fit()\n",
    "\n",
    "# STEP 5: Summarize results\n",
    "summary = result.summary2().tables[1]\n",
    "summary[\"Odds Ratio\"] = np.exp(summary[\"Coef.\"])\n",
    "summary[\"CI Lower\"] = np.exp(summary[\"Coef.\"] - 1.96 * summary[\"Std.Err.\"])\n",
    "summary[\"CI Upper\"] = np.exp(summary[\"Coef.\"] + 1.96 * summary[\"Std.Err.\"])\n",
    "\n",
    "# Display final table\n",
    "#print(summary[[\"Coef.\", \"Std.Err.\", \"P>|z|\", \"Odds Ratio\", \"CI Lower\", \"CI Upper\"]])"
   ]
  },
  {
   "cell_type": "code",
   "execution_count": 4,
   "id": "372aba86",
   "metadata": {},
   "outputs": [],
   "source": [
    "#plot_odds_ratios(result, log_scale=True, show_cycle=True)"
   ]
  },
  {
   "cell_type": "code",
   "execution_count": 3,
   "id": "5b7a2eb0",
   "metadata": {},
   "outputs": [],
   "source": [
    "#plot_odds_ratios(result, log_scale=False)"
   ]
  },
  {
   "cell_type": "code",
   "execution_count": null,
   "id": "17afe53c",
   "metadata": {},
   "outputs": [],
   "source": []
  }
 ],
 "metadata": {
  "kernelspec": {
   "display_name": "Python 3 (ipykernel)",
   "language": "python",
   "name": "python3"
  },
  "language_info": {
   "codemirror_mode": {
    "name": "ipython",
    "version": 3
   },
   "file_extension": ".py",
   "mimetype": "text/x-python",
   "name": "python",
   "nbconvert_exporter": "python",
   "pygments_lexer": "ipython3",
   "version": "3.13.2"
  }
 },
 "nbformat": 4,
 "nbformat_minor": 5
}
